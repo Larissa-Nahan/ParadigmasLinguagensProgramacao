{
 "cells": [
  {
   "cell_type": "code",
   "execution_count": 6,
   "id": "8e3e4c24-747c-4eca-9e4c-2ed13806037c",
   "metadata": {},
   "outputs": [],
   "source": [
    "class Funcionario:\n",
    "    def __init__(self):\n",
    "        self\n",
    "        \n",
    "class Pagamentos:\n",
    "    def calcular_pagamentos(self, funcionarios):\n",
    "        for i, funcionario in enumerate(funcionarios):\n",
    "            print(f'==> O funcionário {i+1} recebe ao todo {funcionario.calcular_pagamentos()}')\n",
    "    def calcular_com_extra(self, funcionarios):\n",
    "        for i, funcionario in enumerate(funcionarios):\n",
    "            print(f'==> Funcionário assalariado-comissionado recebe 10% a mais em seu salário-fixo, totalizando em {funcionario.calcular_com_extra()}')\n",
    "            \n",
    "\n",
    "#Funcionários assalariados recebem salários fixos semanais independentemente do número de horas trabalhadas\n",
    "class Assalariado(Funcionario):\n",
    "    def __init__(self, salario_semanal):\n",
    "        super().__init__()\n",
    "        self.salario_semanal = salario_semanal\n",
    "        \n",
    "    def calcular_pagamentos(self):\n",
    "        return self.salario_semanal\n",
    "\n",
    "#Funcionários que trabalham por hora são pagos da mesma forma e recebem horas extras\n",
    "#(isto é, 1,5 vez sua taxa de salário por hora) por todas as horas trabalhadas além das 40 horas normais\n",
    "class PorHora(Assalariado):\n",
    "    def __init__(self, salario_semanal, horas_extras, valor_hora=0):\n",
    "        super().__init__(salario_semanal)\n",
    "        self.horas_extras = horas_extras\n",
    "        self.valor_hora = (salario_semanal*1.5)/100\n",
    "        \n",
    "    def calcular_pagamentos(self):\n",
    "        fixo = super().calcular_pagamentos()\n",
    "        return fixo + self.horas_extras * self.valor_hora      \n",
    "        \n",
    "#Funcionários comissionados recebem uma porcentagem sobre suas vendas\n",
    "class Comissionado(Funcionario):\n",
    "    def __init__(self, comissao):\n",
    "        self.comissao = comissao\n",
    "        \n",
    "    def calcular_pagamentos(self):\n",
    "        return self.comissao\n",
    "    \n",
    "#Funcionários assalariados/comissionados recebem um salário-base mais uma porcentagem sobre suas vendas\n",
    "class AssalariadoComissionado(Assalariado):\n",
    "    def __init__(self, salario_semanal, comissao):\n",
    "        super().__init__(salario_semanal)\n",
    "        self.comissao = comissao\n",
    "        \n",
    "    def calcular_com_extra(self):\n",
    "        fixo = super().calcular_pagamentos()\n",
    "        fixo = fixo + (fixo * 10)/100\n",
    "        return fixo + self.comissao"
   ]
  },
  {
   "cell_type": "code",
   "execution_count": null,
   "id": "dd6e4223-782d-4de8-b30e-e0b172706a57",
   "metadata": {},
   "outputs": [],
   "source": []
  }
 ],
 "metadata": {
  "kernelspec": {
   "display_name": "Python 3 (ipykernel)",
   "language": "python",
   "name": "python3"
  },
  "language_info": {
   "codemirror_mode": {
    "name": "ipython",
    "version": 3
   },
   "file_extension": ".py",
   "mimetype": "text/x-python",
   "name": "python",
   "nbconvert_exporter": "python",
   "pygments_lexer": "ipython3",
   "version": "3.9.6"
  }
 },
 "nbformat": 4,
 "nbformat_minor": 5
}
