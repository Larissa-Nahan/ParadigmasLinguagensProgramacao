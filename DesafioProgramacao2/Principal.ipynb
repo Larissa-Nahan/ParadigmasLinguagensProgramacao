{
 "cells": [
  {
   "cell_type": "code",
   "execution_count": 19,
   "id": "4401d8bd-78f0-4307-b0bc-e7acdb835f3e",
   "metadata": {},
   "outputs": [
    {
     "name": "stdout",
     "output_type": "stream",
     "text": [
      "==> O funcionário 1 recebe ao todo 1500\n",
      "==> O funcionário 2 recebe ao todo 1837.5\n",
      "==> O funcionário 3 recebe ao todo 250\n",
      "==> O funcionário 4 recebe ao todo 1500\n",
      "==> Funcionário assalariado-comissionado recebe 10% a mais em seu salário-fixo, totalizando em 1900.0\n"
     ]
    }
   ],
   "source": [
    "%run RH.ipynb\n",
    "\n",
    "funcionario_assalariado = Assalariado(1500)\n",
    "funcionario_porHora = PorHora(1500, 15)\n",
    "funcionario_comissionado = Comissionado(250)\n",
    "funcionario_assalariadoComissionado = AssalariadoComissionado(1500, 250)\n",
    "\n",
    "calcular_salario = Pagamentos()\n",
    "calcular_salario.calcular_pagamentos([\n",
    "    funcionario_assalariado,\n",
    "    funcionario_porHora,\n",
    "    funcionario_comissionado,\n",
    "    funcionario_assalariadoComissionado\n",
    "])\n",
    "calcular_salario.calcular_com_extra([\n",
    "    funcionario_assalariadoComissionado\n",
    "])\n"
   ]
  },
  {
   "cell_type": "code",
   "execution_count": null,
   "id": "8f55450b-f2fa-478f-aed8-bb9357b004bf",
   "metadata": {},
   "outputs": [],
   "source": [
    "#===========================================================#"
   ]
  },
  {
   "cell_type": "code",
   "execution_count": 77,
   "id": "220c9ac1-d550-4d44-aa54-b7a07d56db1c",
   "metadata": {},
   "outputs": [
    {
     "name": "stdout",
     "output_type": "stream",
     "text": [
      "Perímetro\n",
      "==> O perímetro da figura 1 é 40 cm\n",
      "==> O perímetro da figura 2 é 60 cm\n",
      "==> O perímetro da figura 3 é 18.84 cm\n",
      "==> O perímetro da figura 4 é 9 cm\n",
      "==> O perímetro da figura 5 é 17 cm\n",
      "==> O perímetro da figura 6 é 20 cm\n",
      "\n",
      "Área\n",
      "==> A área da figura 1 é 100 cm²\n",
      "==> A área da figura 2 é 200 cm²\n",
      "==> A área da figura 3 é 28.26 cm²\n",
      "==> A área da figura 4 é 7.5 cm²\n",
      "==> A área da figura 5 é 35.0 cm²\n",
      "==> A área da figura 6 é 5.0 cm²\n",
      "\n",
      "Volume\n",
      "==> O volume da figura 1 é 1000 cm³\n",
      "==> O volume da figura 2 é 113.04 cm³\n",
      "==> O volume da figura 3 é 1333.33 cm³\n",
      "==> O volume da figura 4 é 282.6 cm³\n",
      "==> O volume da figura 5 é 94.2 cm³\n"
     ]
    }
   ],
   "source": [
    "%run Figuras.ipynb\n",
    "\n",
    "quadrado = Quadrado(10, 10)\n",
    "retangulo = Retangulo(10, 20)\n",
    "circulo = Circulo(3)\n",
    "triangulo = Triangulo(5, 3)\n",
    "trapezio = Trapezio(4, 6, 7, 3, 4)\n",
    "losango = Losango(5, 5, 5)\n",
    "\n",
    "cubo = Cubo(10)\n",
    "esfera = Esfera(3)\n",
    "piramide = Piramide(10, 20)\n",
    "cilindro = Cilindro(10, 3)\n",
    "cone = Cone(10, 3)\n",
    "\n",
    "calcular_perimetro = Calcular()\n",
    "calcular_perimetro.calcular_perimetro([\n",
    "    quadrado,\n",
    "    retangulo,\n",
    "    circulo,\n",
    "    triangulo,\n",
    "    trapezio,\n",
    "    losango\n",
    "])\n",
    "\n",
    "calcular_area = Calcular()\n",
    "calcular_area.calcular_area([\n",
    "    quadrado,\n",
    "    retangulo,\n",
    "    circulo,\n",
    "    triangulo,\n",
    "    trapezio,\n",
    "    losango\n",
    "])\n",
    "\n",
    "calcular_volume = Calcular()\n",
    "calcular_volume.calcular_volume([\n",
    "    cubo,\n",
    "    esfera,\n",
    "    piramide,\n",
    "    cilindro,\n",
    "    cone\n",
    "])"
   ]
  },
  {
   "cell_type": "code",
   "execution_count": null,
   "id": "d1396a02-fbb9-473e-bb86-3bc22f08ce72",
   "metadata": {},
   "outputs": [],
   "source": []
  }
 ],
 "metadata": {
  "kernelspec": {
   "display_name": "Python 3 (ipykernel)",
   "language": "python",
   "name": "python3"
  },
  "language_info": {
   "codemirror_mode": {
    "name": "ipython",
    "version": 3
   },
   "file_extension": ".py",
   "mimetype": "text/x-python",
   "name": "python",
   "nbconvert_exporter": "python",
   "pygments_lexer": "ipython3",
   "version": "3.9.6"
  }
 },
 "nbformat": 4,
 "nbformat_minor": 5
}
